{
 "cells": [
  {
   "cell_type": "markdown",
   "metadata": {},
   "source": [
    "#### Import Data\n",
    "Data is imported from the train.csv.gz file in the data folder. This data was downloaded from the Kaggle.com\n",
    "* Load dataframe using Pandas\n",
    "* Create categorical target with 10 categories [0-9]\n",
    "* Normalize and format our training data"
   ]
  },
  {
   "cell_type": "code",
   "execution_count": 1,
   "metadata": {
    "collapsed": false
   },
   "outputs": [
    {
     "name": "stderr",
     "output_type": "stream",
     "text": [
      "Using TensorFlow backend.\n"
     ]
    }
   ],
   "source": [
    "import keras\n",
    "import numpy as np\n",
    "import pandas as pd\n",
    "from keras import backend as K\n",
    "\n",
    "df = pd.read_csv(\"data/train.csv.gz\")\n",
    "y = keras.utils.to_categorical(df[df.columns[0]], 10)\n",
    "X = np.array(df[df.columns[1:]], dtype=float) / 255\n",
    "\n",
    "train_size = int(X.shape[0] * .75)\n",
    "\n",
    "if K.image_data_format() == 'channels_first':\n",
    "    X = X.reshape(X.shape[0], 1, 28, 28)\n",
    "    input_shape = (1, 28, 28)\n",
    "else:\n",
    "    X = X.reshape(X.shape[0], 28, 28, 1)\n",
    "    input_shape = (28, 28, 1)"
   ]
  },
  {
   "cell_type": "markdown",
   "metadata": {},
   "source": [
    "#### Network Setup\n",
    "* Convolutional layer with 64 4x4 filters\n",
    "* Dropout of 25% between conv layers\n",
    "* Second Convolutional layer with 128 4x4 filters\n",
    "* Max Pooling layer\n",
    "* Flatten layer\n",
    "* Fully connected layer with 512 neurons\n",
    "* 50 percent dropout layer\n",
    "* 10 neurons representing our output layer using a softmax activation function"
   ]
  },
  {
   "cell_type": "code",
   "execution_count": 2,
   "metadata": {
    "collapsed": false
   },
   "outputs": [],
   "source": [
    "from keras.layers import Dense, Dropout, Conv2D, Flatten, MaxPooling2D\n",
    "from keras.models import Sequential\n",
    "from keras.optimizers import RMSprop\n",
    "\n",
    "model = Sequential()\n",
    "model.add(Conv2D(64, kernel_size=(4, 4), activation='relu', input_shape=input_shape))\n",
    "model.add(Dropout(0.25))\n",
    "model.add(Conv2D(128, (4, 4), activation='relu'))\n",
    "model.add(MaxPooling2D(pool_size=(2, 2)))\n",
    "model.add(Flatten())\n",
    "model.add(Dense(512, activation='relu'))\n",
    "model.add(Dropout(0.5))\n",
    "model.add(Dense(10, activation='softmax'))"
   ]
  },
  {
   "cell_type": "markdown",
   "metadata": {},
   "source": [
    "#### Training\n",
    "* Loss is calculated as categorical cross entropy \n",
    "* RMS Prop is used for optimization of the network "
   ]
  },
  {
   "cell_type": "code",
   "execution_count": 3,
   "metadata": {
    "collapsed": false
   },
   "outputs": [
    {
     "data": {
      "text/plain": [
       "<keras.callbacks.History at 0x135fd3e23c8>"
      ]
     },
     "execution_count": 3,
     "metadata": {},
     "output_type": "execute_result"
    }
   ],
   "source": [
    "class LossHistory(keras.callbacks.Callback):\n",
    "    def on_train_begin(self, logs={}):\n",
    "        self.losses = []\n",
    "\n",
    "    def on_batch_end(self, batch, logs={}):\n",
    "        self.losses.append(logs.get('loss'))\n",
    "        \n",
    "history = LossHistory()\n",
    "model.compile(loss='categorical_crossentropy', optimizer=RMSprop(), metrics=['accuracy'])\n",
    "model.fit(X[:train_size], y[:train_size], batch_size=100, epochs=2, verbose=False,\n",
    "         callbacks=[history])"
   ]
  },
  {
   "cell_type": "markdown",
   "metadata": {},
   "source": [
    "#### Optimization\n",
    "Plot the loss after each training batch"
   ]
  },
  {
   "cell_type": "code",
   "execution_count": 4,
   "metadata": {
    "collapsed": false
   },
   "outputs": [
    {
     "data": {
      "image/png": "[encoded data removed]",
      "text/plain": [
       "<matplotlib.figure.Figure at 0x135fd3d9cc0>"
      ]
     },
     "metadata": {},
     "output_type": "display_data"
    }
   ],
   "source": [
    "from scipy.interpolate import spline\n",
    "import matplotlib.pyplot as plt\n",
    "\n",
    "plot_x = np.array(range(0, len(history.losses)))\n",
    "plot_sx = np.linspace(0, len(history.losses), 300)\n",
    "plot_y = spline(plot_x, history.losses, plot_sx)\n",
    "plt.plot(plot_sx, plot_y)\n",
    "plt.show()"
   ]
  },
  {
   "cell_type": "code",
   "execution_count": 5,
   "metadata": {
    "collapsed": false
   },
   "outputs": [
    {
     "name": "stdout",
     "output_type": "stream",
     "text": [
      "             precision    recall  f1-score   support\n",
      "\n",
      "          0       0.99      0.99      0.99      1063\n",
      "          1       0.98      1.00      0.99      1182\n",
      "          2       0.98      0.99      0.99      1005\n",
      "          3       1.00      0.98      0.99      1108\n",
      "          4       0.98      0.99      0.98       985\n",
      "          5       0.99      0.98      0.99       940\n",
      "          6       0.99      0.99      0.99      1042\n",
      "          7       0.98      0.99      0.98      1111\n",
      "          8       0.99      0.98      0.99      1021\n",
      "          9       0.99      0.96      0.97      1043\n",
      "\n",
      "avg / total       0.99      0.99      0.99     10500\n",
      "\n",
      "[[1055    1    0    0    0    0    6    0    1    0]\n",
      " [   0 1177    1    0    0    1    1    1    1    0]\n",
      " [   1    0  994    1    0    0    0    7    1    1]\n",
      " [   1    4    5 1087    0    3    1    6    0    1]\n",
      " [   0    7    0    0  976    0    0    0    0    2]\n",
      " [   2    1    0    4    2  924    3    0    2    2]\n",
      " [   1    2    1    0    2    1 1035    0    0    0]\n",
      " [   0    1    6    0    0    0    0 1101    1    2]\n",
      " [   0    4    3    0    3    1    4    0 1003    3]\n",
      " [   5    2    0    0   14    4    0   14    4 1000]]\n"
     ]
    }
   ],
   "source": [
    "from sklearn import metrics\n",
    "\n",
    "predicted = np.argmax(model.predict(X[train_size:]), axis=1)\n",
    "actual = np.argmax(y[train_size:], axis=1)\n",
    "print(metrics.classification_report(actual, predicted))\n",
    "print(metrics.confusion_matrix(actual, predicted))"
   ]
  }
 ],
 "metadata": {
  "kernelspec": {
   "display_name": "Python 3",
   "language": "python",
   "name": "python3"
  },
  "language_info": {
   "codemirror_mode": {
    "name": "ipython",
    "version": 3
   },
   "file_extension": ".py",
   "mimetype": "text/x-python",
   "name": "python",
   "nbconvert_exporter": "python",
   "pygments_lexer": "ipython3",
   "version": "3.6.0"
  }
 },
 "nbformat": 4,
 "nbformat_minor": 2
}
