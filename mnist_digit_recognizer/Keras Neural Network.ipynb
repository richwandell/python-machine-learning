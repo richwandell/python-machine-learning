{
 "cells": [
  {
   "cell_type": "markdown",
   "metadata": {},
   "source": [
    "# Import Data\n",
    "Data is imported from the train.csv.gz file in the data folder. This data was downloaded from the Kaggle.com\n",
    "* Load dataframe using Pandas\n",
    "* Create categorical target with 10 categories [0-9]\n",
    "* Normalize and format our training data"
   ]
  },
  {
   "cell_type": "code",
   "execution_count": 1,
   "metadata": {
    "collapsed": false
   },
   "outputs": [
    {
     "name": "stderr",
     "output_type": "stream",
     "text": [
      "Using TensorFlow backend.\n"
     ]
    }
   ],
   "source": [
    "import keras\n",
    "import numpy as np\n",
    "import pandas as pd\n",
    "\n",
    "df = pd.read_csv(\"data/train.csv.gz\")\n",
    "y = keras.utils.to_categorical(df[df.columns[0]], 10)\n",
    "X = np.array(df[df.columns[1:]], dtype=float).reshape(df.shape[0], 784) / 255\n",
    "\n",
    "train_size = int(X.shape[0] * .75)"
   ]
  },
  {
   "cell_type": "markdown",
   "metadata": {},
   "source": [
    "# Principle component analysis\n",
    "Use only 50 features out of the 784 possible features. This should make for a much smaller neural network"
   ]
  },
  {
   "cell_type": "code",
   "execution_count": 2,
   "metadata": {
    "collapsed": true
   },
   "outputs": [],
   "source": [
    "from sklearn.decomposition import PCA\n",
    "\n",
    "pca = PCA(n_components=50)\n",
    "training_data = pca.fit_transform(X[:train_size], y[:train_size])"
   ]
  },
  {
   "cell_type": "markdown",
   "metadata": {},
   "source": [
    "# Network Setup\n",
    "* Create a model using the sequential api\n",
    "* Dense layer with 512 neurons using a rectified linear unit activation function\n",
    "* 20 percent dropout layer\n",
    "* Dense layer with 512 neurons and a relu activation function\n",
    "* 20 percent dropout layer\n",
    "* Dense layer with 10 neurons representing our output layer using a softmax activation function"
   ]
  },
  {
   "cell_type": "code",
   "execution_count": 3,
   "metadata": {
    "collapsed": false
   },
   "outputs": [],
   "source": [
    "from keras.layers import Dense, Dropout\n",
    "from keras.models import Sequential\n",
    "from keras.optimizers import RMSprop\n",
    "\n",
    "model = Sequential()\n",
    "model.add(Dense(512, activation='relu', input_shape=(50,)))\n",
    "model.add(Dense(10, activation='softmax'))"
   ]
  },
  {
   "cell_type": "markdown",
   "metadata": {},
   "source": [
    "# Training\n",
    "* Loss is calculated as categorical cross entropy \n",
    "* RMS Prop is used for optimization of the network "
   ]
  },
  {
   "cell_type": "code",
   "execution_count": 4,
   "metadata": {
    "collapsed": false
   },
   "outputs": [
    {
     "data": {
      "text/plain": [
       "<keras.callbacks.History at 0x23e07368fd0>"
      ]
     },
     "execution_count": 4,
     "metadata": {},
     "output_type": "execute_result"
    }
   ],
   "source": [
    "class LossHistory(keras.callbacks.Callback):\n",
    "    def on_train_begin(self, logs={}):\n",
    "        self.losses = []\n",
    "\n",
    "    def on_batch_end(self, batch, logs={}):\n",
    "        self.losses.append(logs.get('loss'))\n",
    "\n",
    "history = LossHistory()\n",
    "model.compile(loss='categorical_crossentropy', optimizer=RMSprop(lr=0.001), metrics=['accuracy'])\n",
    "model.fit(training_data, y[:train_size], batch_size=1000, epochs=20, verbose=False, \n",
    "          callbacks=[history])"
   ]
  },
  {
   "cell_type": "markdown",
   "metadata": {},
   "source": [
    "# Optimization\n",
    "Plot the loss after each training batch"
   ]
  },
  {
   "cell_type": "code",
   "execution_count": 5,
   "metadata": {
    "collapsed": false
   },
   "outputs": [
    {
     "data": {
      "image/png": "[encoded data removed]",
      "text/plain": [
       "<matplotlib.figure.Figure at 0x23e070c4160>"
      ]
     },
     "metadata": {},
     "output_type": "display_data"
    }
   ],
   "source": [
    "from scipy.interpolate import spline\n",
    "import matplotlib.pyplot as plt\n",
    "\n",
    "plot_x = np.array(range(0, len(history.losses)))\n",
    "plot_sx = np.linspace(0, len(history.losses), 300)\n",
    "plot_y = spline(plot_x, history.losses, plot_sx)\n",
    "plt.plot(plot_sx, plot_y)\n",
    "plt.show()"
   ]
  },
  {
   "cell_type": "code",
   "execution_count": 6,
   "metadata": {
    "collapsed": false
   },
   "outputs": [
    {
     "name": "stdout",
     "output_type": "stream",
     "text": [
      "             precision    recall  f1-score   support\n",
      "\n",
      "          0       0.98      0.99      0.98      1063\n",
      "          1       0.98      0.99      0.99      1182\n",
      "          2       0.98      0.97      0.98      1005\n",
      "          3       0.98      0.97      0.97      1108\n",
      "          4       0.99      0.97      0.98       985\n",
      "          5       0.97      0.97      0.97       940\n",
      "          6       0.98      0.98      0.98      1042\n",
      "          7       0.97      0.99      0.98      1111\n",
      "          8       0.97      0.97      0.97      1021\n",
      "          9       0.96      0.96      0.96      1043\n",
      "\n",
      "avg / total       0.98      0.98      0.98     10500\n",
      "\n",
      "[[1053    0    0    0    0    1    6    0    3    0]\n",
      " [   0 1168    2    3    1    0    0    3    4    1]\n",
      " [   6    0  979    2    2    1    5    5    3    2]\n",
      " [   1    1    9 1070    0    7    0    6    7    7]\n",
      " [   0    6    0    0  960    0    3    1    2   13]\n",
      " [   4    3    0    6    2  915    2    1    4    3]\n",
      " [   6    1    2    0    1    6 1026    0    0    0]\n",
      " [   0    1    6    1    0    1    0 1095    1    6]\n",
      " [   1    6    3    5    0    5    2    0  994    5]\n",
      " [   5    3    1    4    5    3    0   14    5 1003]]\n"
     ]
    }
   ],
   "source": [
    "from sklearn import metrics\n",
    "\n",
    "predicted = np.argmax(model.predict(pca.transform(X[train_size:])), axis=1)\n",
    "actual = np.argmax(y[train_size:], axis=1)\n",
    "print(metrics.classification_report(actual, predicted))\n",
    "print(metrics.confusion_matrix(actual, predicted))"
   ]
  }
 ],
 "metadata": {
  "kernelspec": {
   "display_name": "Python 3",
   "language": "python",
   "name": "python3"
  },
  "language_info": {
   "codemirror_mode": {
    "name": "ipython",
    "version": 3
   },
   "file_extension": ".py",
   "mimetype": "text/x-python",
   "name": "python",
   "nbconvert_exporter": "python",
   "pygments_lexer": "ipython3",
   "version": "3.6.0"
  }
 },
 "nbformat": 4,
 "nbformat_minor": 2
}
