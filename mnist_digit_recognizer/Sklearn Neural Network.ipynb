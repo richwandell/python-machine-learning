{
 "cells": [
  {
   "cell_type": "markdown",
   "metadata": {},
   "source": [
    "# Import data into X and y lists"
   ]
  },
  {
   "cell_type": "code",
   "execution_count": 1,
   "metadata": {
    "collapsed": false
   },
   "outputs": [],
   "source": [
    "import gzip, io, csv\n",
    "import numpy as np\n",
    "\n",
    "X, y = [], []\n",
    "with io.TextIOWrapper(gzip.open(\"data/train.csv.gz\", \"r\")) as csvfile:\n",
    "    csvreader = csv.reader(csvfile, delimiter=',', quotechar='|')\n",
    "    for i, row in enumerate(csvreader):\n",
    "        if i == 0: continue\n",
    "        vals = row[1:]\n",
    "        X.append(vals)\n",
    "        y.append([row[0]])"
   ]
  },
  {
   "cell_type": "markdown",
   "metadata": {},
   "source": [
    "## Normalize\n",
    "\n",
    "The image data contains values between 0 and 255 corresponding to the pixel value."
   ]
  },
  {
   "cell_type": "code",
   "execution_count": 2,
   "metadata": {
    "collapsed": true
   },
   "outputs": [],
   "source": [
    "X = np.array(X, dtype=float)\n",
    "X = X / 255\n",
    "y = np.array(y, dtype=str)"
   ]
  },
  {
   "cell_type": "markdown",
   "metadata": {},
   "source": [
    "## Plot the first 10 images"
   ]
  },
  {
   "cell_type": "code",
   "execution_count": 3,
   "metadata": {
    "collapsed": false
   },
   "outputs": [
    {
     "data": {
      "image/png": "[encoded data removed]",
      "text/plain": [
       "<matplotlib.figure.Figure at 0x10f0fe320>"
      ]
     },
     "metadata": {},
     "output_type": "display_data"
    }
   ],
   "source": [
    "import matplotlib.pyplot as plt\n",
    "\n",
    "def gimg(i):\n",
    "    # images must be 28x28x3\n",
    "    return np.reshape(\n",
    "        # greyscale images using the same value for R G B\n",
    "        np.column_stack(\n",
    "            (X[i], X[i], X[i])\n",
    "        ),\n",
    "        (28, 28, 3)\n",
    "    )\n",
    "\n",
    "\n",
    "img = gimg(0)\n",
    "for i in range(1, 5):\n",
    "    img = np.column_stack((img, gimg(i)))\n",
    "\n",
    "img1 = gimg(6)\n",
    "for i in range(7, 11):\n",
    "    img1 = np.column_stack((img1, gimg(i)))\n",
    "\n",
    "img = 1 - np.row_stack((img, img1))\n",
    "\n",
    "plt.imshow(img)\n",
    "plt.show()"
   ]
  },
  {
   "cell_type": "markdown",
   "metadata": {},
   "source": [
    "## Select training data size using 75% of the source"
   ]
  },
  {
   "cell_type": "code",
   "execution_count": 4,
   "metadata": {
    "collapsed": true
   },
   "outputs": [],
   "source": [
    "train_size = int(X.shape[0] * .75)"
   ]
  },
  {
   "cell_type": "markdown",
   "metadata": {},
   "source": [
    "## PCA\n",
    "\n",
    "Perform principle component analysis and use 50 features out of the 785."
   ]
  },
  {
   "cell_type": "code",
   "execution_count": 5,
   "metadata": {
    "collapsed": true
   },
   "outputs": [],
   "source": [
    "from sklearn.decomposition import PCA\n",
    "\n",
    "pca = PCA(n_components=50)\n",
    "training_data = pca.fit_transform(X[:train_size], y[:train_size])"
   ]
  },
  {
   "cell_type": "markdown",
   "metadata": {},
   "source": [
    "## Neural Network\n",
    "\n",
    "Create a neural network with \n",
    "* 1 hidden layer using 30 hidden layer neurons\n",
    "* Rectified Linear Unit (RELU) activation function\n",
    "* Learning rate 0.00001\n",
    "* LBFGS optimization algorithm"
   ]
  },
  {
   "cell_type": "code",
   "execution_count": 6,
   "metadata": {
    "collapsed": false
   },
   "outputs": [
    {
     "data": {
      "text/plain": [
       "MLPClassifier(activation='relu', alpha=1e-05, batch_size='auto', beta_1=0.9,\n",
       "       beta_2=0.999, early_stopping=False, epsilon=1e-08,\n",
       "       hidden_layer_sizes=(30,), learning_rate='constant',\n",
       "       learning_rate_init=0.001, max_iter=3000, momentum=0.9,\n",
       "       nesterovs_momentum=True, power_t=0.5, random_state=1, shuffle=True,\n",
       "       solver='lbfgs', tol=0.0001, validation_fraction=0.1, verbose=False,\n",
       "       warm_start=False)"
      ]
     },
     "execution_count": 6,
     "metadata": {},
     "output_type": "execute_result"
    }
   ],
   "source": [
    "from sklearn.neural_network import MLPClassifier\n",
    "\n",
    "clf = MLPClassifier(solver='lbfgs', alpha=1e-5, activation='relu', max_iter=3000,\n",
    "                    hidden_layer_sizes=(30,), random_state=1)\n",
    "clf.fit(training_data, y[:train_size].ravel())"
   ]
  },
  {
   "cell_type": "markdown",
   "metadata": {},
   "source": [
    "## Results\n",
    "\n",
    "Test the trained network against the remaining 25% of the dataset and print the classification report and confusion matrix"
   ]
  },
  {
   "cell_type": "code",
   "execution_count": 7,
   "metadata": {
    "collapsed": false
   },
   "outputs": [
    {
     "name": "stdout",
     "output_type": "stream",
     "text": [
      "             precision    recall  f1-score   support\n",
      "\n",
      "          0       0.96      0.97      0.97      1063\n",
      "          1       0.98      0.98      0.98      1182\n",
      "          2       0.94      0.94      0.94      1005\n",
      "          3       0.93      0.93      0.93      1108\n",
      "          4       0.95      0.95      0.95       985\n",
      "          5       0.92      0.94      0.93       940\n",
      "          6       0.98      0.95      0.96      1042\n",
      "          7       0.95      0.96      0.95      1111\n",
      "          8       0.93      0.93      0.93      1021\n",
      "          9       0.95      0.93      0.94      1043\n",
      "\n",
      "avg / total       0.95      0.95      0.95     10500\n",
      "\n",
      "[[1036    0    6    1    1    6    6    0    6    1]\n",
      " [   0 1161    3    1    2    2    2    5    5    1]\n",
      " [   6    2  947   16    4    3    2   14   10    1]\n",
      " [   1    4   14 1026    2   27    1    9   17    7]\n",
      " [   3    5    1    1  939    1    8    5    3   19]\n",
      " [   9    3    3   21    3  883    1    4    9    4]\n",
      " [   8    1    8    1   11   14  994    0    5    0]\n",
      " [   3    0   11   10    3    4    0 1067    2   11]\n",
      " [   4   10   12   17    3    7    4    3  953    8]\n",
      " [   6    3    2    9   18    8    1   19   12  965]]\n"
     ]
    }
   ],
   "source": [
    "from sklearn import metrics\n",
    "\n",
    "predicted = clf.predict(pca.transform(X[train_size:]))\n",
    "actual = y[train_size:]\n",
    "print(metrics.classification_report(actual, predicted))\n",
    "print(metrics.confusion_matrix(actual, predicted))"
   ]
  },
  {
   "cell_type": "code",
   "execution_count": null,
   "metadata": {
    "collapsed": true
   },
   "outputs": [],
   "source": []
  }
 ],
 "metadata": {
  "kernelspec": {
   "display_name": "Python 3",
   "language": "python",
   "name": "python3"
  },
  "language_info": {
   "codemirror_mode": {
    "name": "ipython",
    "version": 3
   },
   "file_extension": ".py",
   "mimetype": "text/x-python",
   "name": "python",
   "nbconvert_exporter": "python",
   "pygments_lexer": "ipython3",
   "version": "3.6.0"
  }
 },
 "nbformat": 4,
 "nbformat_minor": 2
}
